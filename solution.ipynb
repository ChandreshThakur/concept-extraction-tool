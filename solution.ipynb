{
 "cells": [
  {
   "cell_type": "markdown",
   "id": "36a97965",
   "metadata": {},
   "source": [
    "# Concept Extraction from Competitive Exam Questions\n",
    "\n",
    "This notebook demonstrates the concept extraction system that combines RAKE (Rapid Automatic Keyword Extraction) with custom keyword dictionaries to identify concepts from competitive exam questions.\n",
    "\n",
    "## Project Features\n",
    "\n",
    "- **Hybrid Concept Extraction**: Uses RAKE + Custom Dictionary\n",
    "- **Cost-Effective**: No direct LLM API calls for core functionality\n",
    "- **Future-Proof**: Built with LLM integration interface\n",
    "- **Domain Adaptable**: Works across multiple subjects\n",
    "- **CSV-based I/O**: Standard file formats for input and output"
   ]
  },
  {
   "cell_type": "markdown",
   "id": "5b79b007",
   "metadata": {},
   "source": [
    "## 1. Setup and Imports"
   ]
  },
  {
   "cell_type": "code",
   "execution_count": 1,
   "id": "7eba5380",
   "metadata": {},
   "outputs": [
    {
     "name": "stdout",
     "output_type": "stream",
     "text": [
      "Setup complete!\n"
     ]
    }
   ],
   "source": [
    "import pandas as pd\n",
    "import nltk\n",
    "import os\n",
    "\n",
    "# Download necessary NLTK data\n",
    "nltk_data_to_download = [\n",
    "    ('tokenizers/punkt', 'punkt'),\n",
    "    ('tokenizers/punkt_tab', 'punkt_tab'),\n",
    "    ('corpora/stopwords', 'stopwords')\n",
    "]\n",
    "\n",
    "for data_path, package_name in nltk_data_to_download:\n",
    "    try:\n",
    "        nltk.data.find(data_path)\n",
    "    except LookupError:\n",
    "        print(f\"Downloading {package_name}...\")\n",
    "        nltk.download(package_name)\n",
    "\n",
    "# Import our custom modules\n",
    "from csv_reader import read_questions_csv\n",
    "from concept_extractor import ConceptExtractor\n",
    "from simulated_llm import SimulatedLLM\n",
    "\n",
    "print(\"Setup complete!\")"
   ]
  },
  {
   "cell_type": "markdown",
   "id": "fbda49f6",
   "metadata": {},
   "source": [
    "## 2. Load Sample Data"
   ]
  },
  {
   "cell_type": "code",
   "execution_count": 2,
   "id": "25a73c54",
   "metadata": {},
   "outputs": [
    {
     "name": "stdout",
     "output_type": "stream",
     "text": [
      "Successfully loaded 5 questions from resources/ancient_history.csv\n",
      "Loaded 5 questions\n",
      "\n",
      "Sample questions:\n",
      "   Question Number                                           Question\n",
      "0                1  Which of the following was a feature of the Ha...\n",
      "1                2  Consider the following pairs: Historical place...\n",
      "2                3  In the context of the history of India, consid...\n",
      "3                4  With reference to the scientific progress of A...\n",
      "4                5  The term 'Jataka' is associated with which of ...\n"
     ]
    }
   ],
   "source": [
    "# Load ancient history questions\n",
    "questions_file = \"resources/ancient_history.csv\"\n",
    "questions_df = read_questions_csv(questions_file)\n",
    "\n",
    "print(f\"Loaded {len(questions_df)} questions\")\n",
    "print(\"\\nSample questions:\")\n",
    "print(questions_df[['Question Number', 'Question']].head())"
   ]
  },
  {
   "cell_type": "markdown",
   "id": "6da533fd",
   "metadata": {},
   "source": [
    "## 3. Hybrid Concept Extraction (RAKE + Custom Dictionary)"
   ]
  },
  {
   "cell_type": "code",
   "execution_count": 3,
   "id": "3289691c",
   "metadata": {},
   "outputs": [
    {
     "name": "stderr",
     "output_type": "stream",
     "text": [
      "INFO:concept_extractor:Starting concept extraction for 5 questions...\n",
      "INFO:concept_extractor:Extraction complete. Statistics: {'total_questions': 5, 'concepts_extracted': 26, 'avg_concepts_per_question': 5.2}\n",
      "INFO:concept_extractor:Extraction complete. Statistics: {'total_questions': 5, 'concepts_extracted': 26, 'avg_concepts_per_question': 5.2}\n"
     ]
    },
    {
     "name": "stdout",
     "output_type": "stream",
     "text": [
      "Concept extraction complete!\n",
      "\n",
      "Results:\n",
      "\n",
      "Question 1: Which of the following was a feature of the Harappan civilization?...\n",
      "Concepts: Indus Valley Civilization\n",
      "\n",
      "Question 2: Consider the following pairs: Historical place – Well-known for\\nBurzahom: Rock-cut shrines\\nChandra...\n",
      "Concepts: Historical Place – Well; Rock Art and Archaeology; Terracotta Art; Copper Age Technology; Ancient Art and Crafts\n",
      "\n",
      "Question 3: In the context of the history of India, consider the following pairs:\\nEripatti: Land revenue set as...\n",
      "Concepts: Land Revenue Set Aside; Following Pairs :\\ Neripatti; Land Revenue Systems; Village Institutions; Temple-based Education; Social Structure; Irrigation Systems; Ancient Education; Temple Architecture\n",
      "\n",
      "Question 4: With reference to the scientific progress of Ancient India, which of the statements are correct?\\nSu...\n",
      "Concepts: Correct ?\\ Nsurgical Instruments; Ancient Medicine; Ancient Mathematics; Ncyclic Quadrilateral Known; 3Rd Century Ad; 1St Century Ad; 1St Century; 3Rd Century; 5Th Century; 7Th Century\n",
      "\n",
      "Question 5: The term 'Jataka' is associated with which of the following religions?...\n",
      "Concepts: Buddhism\n"
     ]
    }
   ],
   "source": [
    "# Initialize hybrid concept extractor\n",
    "custom_dict_file = \"dictionaries/ancient_history_concepts.csv\"\n",
    "hybrid_extractor = ConceptExtractor(custom_dict_file=custom_dict_file)\n",
    "\n",
    "# Extract concepts from all questions\n",
    "questions_with_concepts = hybrid_extractor.extract_concepts_from_dataframe(questions_df.copy())\n",
    "\n",
    "print(\"Concept extraction complete!\")\n",
    "print(\"\\nResults:\")\n",
    "for idx, row in questions_with_concepts.iterrows():\n",
    "    print(f\"\\nQuestion {row['Question Number']}: {row['Question'][:100]}...\")\n",
    "    print(f\"Concepts: {row['Concepts']}\")"
   ]
  },
  {
   "cell_type": "markdown",
   "id": "7955cbcc",
   "metadata": {},
   "source": [
    "## 4. View Custom Dictionary"
   ]
  },
  {
   "cell_type": "code",
   "execution_count": 4,
   "id": "c26e6924",
   "metadata": {},
   "outputs": [
    {
     "name": "stdout",
     "output_type": "stream",
     "text": [
      "Custom Dictionary for Ancient History:\n",
      "                 keyword                    concept\n",
      "0               harappan  Indus Valley Civilization\n",
      "1           indus valley  Indus Valley Civilization\n",
      "2                mauryan             Mauryan Empire\n",
      "3                 ashoka             Ashokan Edicts\n",
      "4                  gupta               Gupta Period\n",
      "5               eripatti       Land Revenue Systems\n",
      "6               taniyurs       Village Institutions\n",
      "7               ghatikas     Temple-based Education\n",
      "8                 jataka                   Buddhism\n",
      "9               buddhism                   Buddhism\n",
      "10                 vedic               Vedic Period\n",
      "11              burzahom   Rock Art and Archaeology\n",
      "12       chandraketugarh             Terracotta Art\n",
      "13             ganeshwar      Copper Age Technology\n",
      "14            terracotta     Ancient Art and Crafts\n",
      "15  surgical instruments           Ancient Medicine\n",
      "16                  sine        Ancient Mathematics\n",
      "17  cyclic quadrilateral        Ancient Mathematics\n",
      "18              brahmins           Social Structure\n",
      "19               revenue       Land Revenue Systems\n",
      "20          village tank         Irrigation Systems\n",
      "21              colleges          Ancient Education\n",
      "22               temples        Temple Architecture\n"
     ]
    }
   ],
   "source": [
    "# Load and display the custom dictionary\n",
    "custom_dict_df = pd.read_csv(custom_dict_file)\n",
    "print(\"Custom Dictionary for Ancient History:\")\n",
    "print(custom_dict_df)"
   ]
  },
  {
   "cell_type": "markdown",
   "id": "4300edfb",
   "metadata": {},
   "source": [
    "## 5. Simulated LLM Extraction"
   ]
  },
  {
   "cell_type": "code",
   "execution_count": 5,
   "id": "c9daec28",
   "metadata": {},
   "outputs": [
    {
     "name": "stdout",
     "output_type": "stream",
     "text": [
      "Simulated LLM Concept Extraction:\n",
      "\n",
      "Question 1: Which of the following was a feature of the Harappan civilization?...\n",
      "LLM Concepts: Indus Valley Civilization; Harappan Civilization; Mesopotamian Civilization\n",
      "\n",
      "Question 2: Consider the following pairs: Historical place – Well-known for\\nBurzahom: Rock-cut shrines\\nChandra...\n",
      "LLM Concepts: Academic Knowledge\n",
      "\n",
      "Question 3: In the context of the history of India, consider the following pairs:\\nEripatti: Land revenue set as...\n",
      "LLM Concepts: Academic Knowledge\n",
      "\n",
      "Question 4: With reference to the scientific progress of Ancient India, which of the statements are correct?\\nSu...\n",
      "LLM Concepts: Ancient Period\n",
      "\n",
      "Question 5: The term 'Jataka' is associated with which of the following religions?...\n",
      "LLM Concepts: Academic Knowledge\n"
     ]
    }
   ],
   "source": [
    "# Test simulated LLM extraction\n",
    "simulated_llm = SimulatedLLM()\n",
    "\n",
    "print(\"Simulated LLM Concept Extraction:\")\n",
    "for idx, row in questions_df.iterrows():\n",
    "    concepts = simulated_llm.extract_concepts(row['Question'])\n",
    "    print(f\"\\nQuestion {row['Question Number']}: {row['Question'][:100]}...\")\n",
    "    print(f\"LLM Concepts: {'; '.join(concepts)}\")"
   ]
  },
  {
   "cell_type": "markdown",
   "id": "ed1dd103",
   "metadata": {},
   "source": [
    "## 6. Comparison: Hybrid vs Simulated LLM"
   ]
  },
  {
   "cell_type": "code",
   "execution_count": 6,
   "id": "46bd3efb",
   "metadata": {},
   "outputs": [
    {
     "name": "stdout",
     "output_type": "stream",
     "text": [
      "Comparison of Extraction Methods:\n",
      "\n",
      "=== Question 1 ===\n",
      "Question: Which of the following was a feature of the Harappan civilization?...\n",
      "Hybrid: Indus Valley Civilization\n",
      "LLM: Indus Valley Civilization; Harappan Civilization; Mesopotamian Civilization\n",
      "\n",
      "=== Question 2 ===\n",
      "Question: Consider the following pairs: Historical place – Well-known for\\nBurzahom: Rock-cut shrines\\nChandraketugarh: Terracotta art\\nGaneshwar: Copper artefa...\n",
      "Hybrid: Historical Place – Well; Rock Art and Archaeology; Terracotta Art; Copper Age Technology; Ancient Art and Crafts\n",
      "LLM: Academic Knowledge\n",
      "\n",
      "=== Question 3 ===\n",
      "Question: In the context of the history of India, consider the following pairs:\\nEripatti: Land revenue set aside for village tank\\nTaniyurs: Villages donated t...\n",
      "Hybrid: Land Revenue Set Aside; Following Pairs :\\ Neripatti; Land Revenue Systems; Village Institutions; Temple-based Education; Social Structure; Irrigation Systems; Ancient Education; Temple Architecture\n",
      "LLM: Academic Knowledge\n",
      "\n",
      "=== Question 4 ===\n",
      "Question: With reference to the scientific progress of Ancient India, which of the statements are correct?\\nSurgical instruments were used by 1st century AD\\nTr...\n",
      "Hybrid: Correct ?\\ Nsurgical Instruments; Ancient Medicine; Ancient Mathematics; Ncyclic Quadrilateral Known; 3Rd Century Ad; 1St Century Ad; 1St Century; 3Rd Century; 5Th Century; 7Th Century\n",
      "LLM: Ancient Period\n",
      "\n",
      "=== Question 5 ===\n",
      "Question: The term 'Jataka' is associated with which of the following religions?...\n",
      "Hybrid: Buddhism\n",
      "LLM: Academic Knowledge\n"
     ]
    }
   ],
   "source": [
    "# Create comparison DataFrame\n",
    "comparison_df = questions_df[['Question Number', 'Question']].copy()\n",
    "comparison_df['Hybrid_Concepts'] = questions_with_concepts['Concepts']\n",
    "comparison_df['LLM_Concepts'] = comparison_df['Question'].apply(\n",
    "    lambda q: '; '.join(simulated_llm.extract_concepts(q))\n",
    ")\n",
    "\n",
    "print(\"Comparison of Extraction Methods:\")\n",
    "for idx, row in comparison_df.iterrows():\n",
    "    print(f\"\\n=== Question {row['Question Number']} ===\")\n",
    "    print(f\"Question: {row['Question'][:150]}...\")\n",
    "    print(f\"Hybrid: {row['Hybrid_Concepts']}\")\n",
    "    print(f\"LLM: {row['LLM_Concepts']}\")"
   ]
  },
  {
   "cell_type": "markdown",
   "id": "d78120a1",
   "metadata": {},
   "source": [
    "## 7. Test Multiple Subjects"
   ]
  },
  {
   "cell_type": "code",
   "execution_count": 7,
   "id": "af5f2793",
   "metadata": {},
   "outputs": [
    {
     "name": "stderr",
     "output_type": "stream",
     "text": [
      "INFO:concept_extractor:Starting concept extraction for 5 questions...\n",
      "INFO:concept_extractor:Extraction complete. Statistics: {'total_questions': 5, 'concepts_extracted': 26, 'avg_concepts_per_question': 5.2}\n",
      "INFO:concept_extractor:Starting concept extraction for 5 questions...\n",
      "INFO:concept_extractor:Extraction complete. Statistics: {'total_questions': 5, 'concepts_extracted': 7, 'avg_concepts_per_question': 1.4}\n",
      "INFO:concept_extractor:Starting concept extraction for 5 questions...\n",
      "INFO:concept_extractor:Extraction complete. Statistics: {'total_questions': 5, 'concepts_extracted': 26, 'avg_concepts_per_question': 5.2}\n",
      "INFO:concept_extractor:Starting concept extraction for 5 questions...\n",
      "INFO:concept_extractor:Extraction complete. Statistics: {'total_questions': 5, 'concepts_extracted': 7, 'avg_concepts_per_question': 1.4}\n",
      "INFO:concept_extractor:Starting concept extraction for 5 questions...\n",
      "INFO:concept_extractor:Extraction complete. Statistics: {'total_questions': 5, 'concepts_extracted': 12, 'avg_concepts_per_question': 2.4}\n",
      "INFO:concept_extractor:Extraction complete. Statistics: {'total_questions': 5, 'concepts_extracted': 12, 'avg_concepts_per_question': 2.4}\n",
      "INFO:concept_extractor:Starting concept extraction for 5 questions...\n",
      "INFO:concept_extractor:Extraction complete. Statistics: {'total_questions': 5, 'concepts_extracted': 14, 'avg_concepts_per_question': 2.8}\n",
      "INFO:concept_extractor:Starting concept extraction for 5 questions...\n",
      "INFO:concept_extractor:Extraction complete. Statistics: {'total_questions': 5, 'concepts_extracted': 14, 'avg_concepts_per_question': 2.8}\n"
     ]
    },
    {
     "name": "stdout",
     "output_type": "stream",
     "text": [
      "Successfully loaded 5 questions from resources/ancient_history.csv\n",
      "\n",
      "=== ANCIENT_HISTORY ===\n",
      "Questions processed: 5\n",
      "Sample Question: Which of the following was a feature of the Harappan civilization?...\n",
      "Sample Concepts: Indus Valley Civilization\n",
      "Successfully loaded 5 questions from resources/economics.csv\n",
      "\n",
      "=== ECONOMICS ===\n",
      "Questions processed: 5\n",
      "Sample Question: What is the primary objective of monetary policy?...\n",
      "Sample Concepts: Monetary Policy\n",
      "Successfully loaded 5 questions from resources/mathematics.csv\n",
      "\n",
      "=== MATHEMATICS ===\n",
      "Questions processed: 5\n",
      "Sample Question: What is the derivative of sin(x)?...\n",
      "Sample Concepts: Differential Calculus; Trigonometric Functions; Derivative Of Sin\n",
      "Successfully loaded 5 questions from resources/physics.csv\n",
      "\n",
      "=== PHYSICS ===\n",
      "Questions processed: 5\n",
      "Sample Question: What is Newton's first law of motion?...\n",
      "Sample Concepts: Laws of Motion; Classical Mechanics; Kinematics and Dynamics; Law Of Motion; First Law; Thermodynamics\n"
     ]
    }
   ],
   "source": [
    "# Test with different subjects\n",
    "subjects = ['ancient_history', 'economics', 'mathematics', 'physics']\n",
    "\n",
    "for subject in subjects:\n",
    "    try:\n",
    "        questions_file = f\"resources/{subject}.csv\"\n",
    "        custom_dict_file = f\"dictionaries/{subject}_concepts.csv\"\n",
    "        \n",
    "        if os.path.exists(questions_file):\n",
    "            df = read_questions_csv(questions_file)\n",
    "            if not df.empty:\n",
    "                extractor = ConceptExtractor(custom_dict_file=custom_dict_file)\n",
    "                result_df = extractor.extract_concepts_from_dataframe(df.copy())\n",
    "                \n",
    "                print(f\"\\n=== {subject.upper()} ===\")\n",
    "                print(f\"Questions processed: {len(result_df)}\")\n",
    "                \n",
    "                # Show first question as example\n",
    "                if len(result_df) > 0:\n",
    "                    first_row = result_df.iloc[0]\n",
    "                    print(f\"Sample Question: {first_row['Question'][:100]}...\")\n",
    "                    print(f\"Sample Concepts: {first_row['Concepts']}\")\n",
    "    except Exception as e:\n",
    "        print(f\"Error processing {subject}: {e}\")"
   ]
  },
  {
   "cell_type": "markdown",
   "id": "eb60f9ef",
   "metadata": {},
   "source": [
    "## 8. Save Results"
   ]
  },
  {
   "cell_type": "code",
   "execution_count": 8,
   "id": "6c9c9863",
   "metadata": {},
   "outputs": [
    {
     "name": "stdout",
     "output_type": "stream",
     "text": [
      "Results saved to notebook_output_concepts.csv\n",
      "\n",
      "Summary:\n",
      "Total questions processed: 5\n",
      "Questions with extracted concepts: 5\n",
      "Coverage: 100.0%\n"
     ]
    }
   ],
   "source": [
    "# Save the results to CSV\n",
    "output_file = \"notebook_output_concepts.csv\"\n",
    "output_df = questions_with_concepts[['Question Number', 'Question', 'Concepts']]\n",
    "output_df.to_csv(output_file, index=False, encoding='utf-8')\n",
    "\n",
    "print(f\"Results saved to {output_file}\")\n",
    "print(f\"\\nSummary:\")\n",
    "print(f\"Total questions processed: {len(output_df)}\")\n",
    "questions_with_concepts_count = len(output_df[output_df['Concepts'].str.len() > 0])\n",
    "print(f\"Questions with extracted concepts: {questions_with_concepts_count}\")\n",
    "print(f\"Coverage: {questions_with_concepts_count/len(output_df)*100:.1f}%\")"
   ]
  },
  {
   "cell_type": "markdown",
   "id": "7c7da387",
   "metadata": {},
   "source": [
    "## Conclusion\n",
    "\n",
    "This project demonstrates a hybrid approach to concept extraction that:\n",
    "\n",
    "1. **Combines RAKE with custom dictionaries** for accurate, domain-specific extraction\n",
    "2. **Avoids expensive LLM API calls** while maintaining good performance\n",
    "3. **Provides a framework for future LLM integration** when needed\n",
    "4. **Works across multiple domains** (History, Economics, Mathematics, Physics)\n",
    "5. **Offers both programmatic and interactive interfaces**\n",
    "\n",
    "The system is cost-effective, adaptable, and ready for production use in educational and assessment applications."
   ]
  }
 ],
 "metadata": {
  "kernelspec": {
   "display_name": "Python 3",
   "language": "python",
   "name": "python3"
  },
  "language_info": {
   "codemirror_mode": {
    "name": "ipython",
    "version": 3
   },
   "file_extension": ".py",
   "mimetype": "text/x-python",
   "name": "python",
   "nbconvert_exporter": "python",
   "pygments_lexer": "ipython3",
   "version": "3.12.0"
  }
 },
 "nbformat": 4,
 "nbformat_minor": 5
}
